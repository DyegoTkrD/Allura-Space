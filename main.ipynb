{
  "nbformat": 4,
  "nbformat_minor": 0,
  "metadata": {
    "colab": {
      "provenance": [],
      "mount_file_id": "1TL2KsoILroGvLvm-t9xQx71kkiyutfAD",
      "authorship_tag": "ABX9TyMR9RBuya5mviqcvOKdE5lB",
      "include_colab_link": true
    },
    "kernelspec": {
      "name": "python3",
      "display_name": "Python 3"
    },
    "language_info": {
      "name": "python"
    }
  },
  "cells": [
    {
      "cell_type": "markdown",
      "metadata": {
        "id": "view-in-github",
        "colab_type": "text"
      },
      "source": [
        "<a href=\"https://colab.research.google.com/github/DyegoTkrD/Allura-Space/blob/main/main.ipynb\" target=\"_parent\"><img src=\"https://colab.research.google.com/assets/colab-badge.svg\" alt=\"Open In Colab\"/></a>"
      ]
    },
    {
      "cell_type": "markdown",
      "source": [
        "## **Importações**\n",
        "\n",
        "Realizando as importações necessárias\n"
      ],
      "metadata": {
        "id": "taHxLsqXNcdq"
      }
    },
    {
      "cell_type": "code",
      "execution_count": 2,
      "metadata": {
        "id": "Wh0M6jg7MEfw"
      },
      "outputs": [],
      "source": [
        "import pandas as pd\n",
        "\n",
        "df = pd.read_excel(\"/content/drive/MyDrive/Datasets/AdventureWorks.xlsx\")"
      ]
    },
    {
      "cell_type": "code",
      "source": [
        "df.shape"
      ],
      "metadata": {
        "colab": {
          "base_uri": "https://localhost:8080/"
        },
        "id": "AX8GmHfpNqvj",
        "outputId": "517010fa-9af7-4d7b-b3dd-66928f9502c0"
      },
      "execution_count": 3,
      "outputs": [
        {
          "output_type": "execute_result",
          "data": {
            "text/plain": [
              "(904, 16)"
            ]
          },
          "metadata": {},
          "execution_count": 3
        }
      ]
    },
    {
      "cell_type": "code",
      "source": [
        "df.columns"
      ],
      "metadata": {
        "colab": {
          "base_uri": "https://localhost:8080/"
        },
        "id": "63g8RbYUNtoo",
        "outputId": "1179ced7-66af-49df-c8eb-0cfd42e6f1db"
      },
      "execution_count": 5,
      "outputs": [
        {
          "output_type": "execute_result",
          "data": {
            "text/plain": [
              "Index(['Data Venda', 'Data Envio', 'ID Loja', 'ID Produto', 'ID Cliente',\n",
              "       'No. Venda', 'Custo Unitário', 'Preço Unitário', 'Quantidade',\n",
              "       'Valor Desconto', 'Valor Venda', 'Produto', 'Fabricante', 'Marca',\n",
              "       'Classe', 'Cor'],\n",
              "      dtype='object')"
            ]
          },
          "metadata": {},
          "execution_count": 5
        }
      ]
    },
    {
      "cell_type": "markdown",
      "source": [
        "* Produtos Vendidos por Produto\n",
        "* Quantidade de vendas por cliente\n",
        "* Quantidade de venas por Loja\n",
        "* Quantidade de vendas por Classe\n",
        "* Valor total por Loja\n",
        "* Valor total por cliente\n",
        "* Lucro total por produto"
      ],
      "metadata": {
        "id": "xeHKWn87N3nj"
      }
    },
    {
      "cell_type": "code",
      "source": [],
      "metadata": {
        "id": "9_Gz_oBSN-M6"
      },
      "execution_count": null,
      "outputs": []
    }
  ]
}